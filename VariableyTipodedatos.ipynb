{
 "cells": [
  {
   "cell_type": "code",
   "execution_count": 20,
   "metadata": {},
   "outputs": [
    {
     "name": "stdout",
     "output_type": "stream",
     "text": [
      "esto es una variable, puede contener todo tipo de variables\n",
      "<class 'str'>\n"
     ]
    }
   ],
   "source": [
    "var = \"esto es una variable, puede contener todo tipo de variables\"\n",
    "print(var)\n",
    "print(type(var))\n"
   ]
  },
  {
   "cell_type": "code",
   "execution_count": 16,
   "metadata": {},
   "outputs": [
    {
     "name": "stdout",
     "output_type": "stream",
     "text": [
      "los numero tieneden a ser de typi int o float, dependiendo de como coloques la data, en este ejemplo number es type int 123\n",
      "<class 'int'>\n"
     ]
    }
   ],
   "source": [
    "number = 123\n",
    "print(\"los numero tieneden a ser de typi int o float, dependiendo de como coloques la data, en este ejemplo number es type int \"+str(number))\n",
    "print(type(number))"
   ]
  },
  {
   "cell_type": "code",
   "execution_count": 23,
   "metadata": {},
   "outputs": [
    {
     "name": "stdout",
     "output_type": "stream",
     "text": [
      "este tipo de numero se le conoce como flotante 3.14\n",
      "<class 'float'>\n"
     ]
    }
   ],
   "source": [
    "number2=3.14\n",
    "print(\"este tipo de numero se le conoce como flotante \"+ str(number2))\n",
    "print (type(number2))\n"
   ]
  },
  {
   "cell_type": "code",
   "execution_count": 30,
   "metadata": {},
   "outputs": [
    {
     "name": "stdout",
     "output_type": "stream",
     "text": [
      "esta clase de objetos se le conoce como una lista, puede ser string ['peru', 'colombia', 'chile']\n",
      "esta clase de objetos se le conoce como una lista, puede ser numerico [1, 5.8, 6.777]\n",
      "<class 'list'>\n",
      "<class 'list'>\n"
     ]
    }
   ],
   "source": [
    "lista= [\"peru\", \"colombia\",\"chile\"]\n",
    "lista2=[1,5.8,6.777]\n",
    "print(\"esta clase de objetos se le conoce como una lista, puede ser string \"+ str(lista))\n",
    "print(\"esta clase de objetos se le conoce como una lista, puede ser numerico \"+ str(lista2))\n",
    "print(type(lista))\n",
    "print(type(lista2))"
   ]
  },
  {
   "cell_type": "code",
   "execution_count": 31,
   "metadata": {},
   "outputs": [
    {
     "name": "stdout",
     "output_type": "stream",
     "text": [
      "[[1.5, 5], [5, 6]]\n"
     ]
    }
   ],
   "source": [
    "lista3 =[[1.5,5],[5,6]]\n",
    "print(lista3)"
   ]
  },
  {
   "cell_type": "code",
   "execution_count": 43,
   "metadata": {},
   "outputs": [
    {
     "name": "stdout",
     "output_type": "stream",
     "text": [
      "[11]\n"
     ]
    }
   ],
   "source": [
    "lista3 =[[1.5,5],[5,6]]\n",
    "list4=[]\n",
    "suma=lista3[0][1]+lista3[1][1]\n",
    "list4.append(suma)\n",
    "print(list4) "
   ]
  },
  {
   "cell_type": "code",
   "execution_count": null,
   "metadata": {},
   "outputs": [],
   "source": []
  }
 ],
 "metadata": {
  "kernelspec": {
   "display_name": "Python 3",
   "language": "python",
   "name": "python3"
  },
  "language_info": {
   "codemirror_mode": {
    "name": "ipython",
    "version": 3
   },
   "file_extension": ".py",
   "mimetype": "text/x-python",
   "name": "python",
   "nbconvert_exporter": "python",
   "pygments_lexer": "ipython3",
   "version": "3.11.9"
  }
 },
 "nbformat": 4,
 "nbformat_minor": 2
}
